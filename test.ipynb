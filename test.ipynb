{
  "nbformat": 4,
  "nbformat_minor": 0,
  "metadata": {
    "colab": {
      "provenance": [],
      "authorship_tag": "ABX9TyMu+FWfI2TLndjSjt+pcHwb",
      "include_colab_link": true
    },
    "kernelspec": {
      "name": "python3",
      "display_name": "Python 3"
    },
    "language_info": {
      "name": "python"
    }
  },
  "cells": [
    {
      "cell_type": "markdown",
      "metadata": {
        "id": "view-in-github",
        "colab_type": "text"
      },
      "source": [
        "<a href=\"https://colab.research.google.com/github/DiscoDancer420/Dancing/blob/main/test.ipynb\" target=\"_parent\"><img src=\"https://colab.research.google.com/assets/colab-badge.svg\" alt=\"Open In Colab\"/></a>"
      ]
    },
    {
      "cell_type": "code",
      "execution_count": null,
      "metadata": {
        "colab": {
          "base_uri": "https://localhost:8080/"
        },
        "id": "6xKn2rSArBPm",
        "outputId": "41487434-eaf7-4b3b-c920-1c5063ac58fe"
      },
      "outputs": [
        {
          "output_type": "stream",
          "name": "stdout",
          "text": [
            "Writing helloworld.cpp\n"
          ]
        }
      ],
      "source": [
        "%%writefile helloworld.cpp\n",
        "\n",
        "#include <iostream>\n",
        "\n",
        "using namespace std;\n",
        "\n",
        "int main() {\n",
        "  cout << \"Hello, world!\" << endl;\n",
        "  return 0;\n",
        "}\n"
      ]
    },
    {
      "cell_type": "code",
      "source": [
        "# prompt: run helloworld.cpp file\n",
        "\n",
        "!g++ helloworld.cpp -o helloworld\n",
        "!./helloworld\n"
      ],
      "metadata": {
        "id": "XbN_xCpJr1nr",
        "colab": {
          "base_uri": "https://localhost:8080/"
        },
        "outputId": "f1b0a612-cff5-4bbd-bba2-6b01d12e6bd8"
      },
      "execution_count": 4,
      "outputs": [
        {
          "output_type": "stream",
          "name": "stdout",
          "text": [
            "Hello, world!\n"
          ]
        }
      ]
    },
    {
      "cell_type": "code",
      "source": [
        "# prompt: %%writefile helloworld.cpp  #include <iostream>  using namespace std;  int main() {   cout << \"Hello, world!\" << endl;   return 0; } Write it with input\n",
        "\n",
        "%%writefile helloworld1.cpp\n",
        "\n",
        "#include <iostream>\n",
        "\n",
        "using namespace std;\n",
        "\n",
        "int main() {\n",
        "  cout << \"Enter your name: \";\n",
        "  string name;\n",
        "  cin >> name;\n",
        "  cout << \"Hello, \" << name << \"!\" << endl;\n",
        "  return 0;\n",
        "}\n"
      ],
      "metadata": {
        "colab": {
          "base_uri": "https://localhost:8080/"
        },
        "id": "wA996gdptUbl",
        "outputId": "474745bf-6b38-4eaf-912a-17fbac11faec"
      },
      "execution_count": 6,
      "outputs": [
        {
          "output_type": "stream",
          "name": "stdout",
          "text": [
            "Overwriting helloworld1.cpp\n"
          ]
        }
      ]
    },
    {
      "cell_type": "code",
      "source": [
        "# prompt: run helloworld1.cpp\n",
        "\n",
        "!g++ helloworld1.cpp -o helloworld1\n",
        "!./helloworld1\n"
      ],
      "metadata": {
        "colab": {
          "base_uri": "https://localhost:8080/"
        },
        "id": "uW7RXW_Dt7kD",
        "outputId": "0379c556-8cb3-4869-f914-1dba5efbe27e"
      },
      "execution_count": 7,
      "outputs": [
        {
          "output_type": "stream",
          "name": "stdout",
          "text": [
            "Enter your name: Hasan\n",
            "Hello, Hasan!\n"
          ]
        }
      ]
    },
    {
      "cell_type": "code",
      "source": [
        "# prompt: use a cpp file in another cpp file\n",
        "\n",
        "!g++ helloworld.cpp helloworld1.cpp -o helloworld2\n",
        "!./helloworld2\n"
      ],
      "metadata": {
        "colab": {
          "base_uri": "https://localhost:8080/"
        },
        "id": "U_3RTIOyuGe3",
        "outputId": "3a6c2255-e4f2-4494-8968-e9bba315dac6"
      },
      "execution_count": 8,
      "outputs": [
        {
          "output_type": "stream",
          "name": "stdout",
          "text": [
            "/usr/bin/ld: /tmp/cczosTMl.o: in function `main':\n",
            "helloworld1.cpp:(.text+0x0): multiple definition of `main'; /tmp/ccbkwRuD.o:helloworld.cpp:(.text+0x0): first defined here\n",
            "collect2: error: ld returned 1 exit status\n",
            "/bin/bash: line 1: ./helloworld2: No such file or directory\n"
          ]
        }
      ]
    },
    {
      "cell_type": "code",
      "source": [
        "%%cpp\n",
        "\n",
        "#include <iostream>\n",
        "\n",
        "// Function declaration\n",
        "void greet();\n",
        "int add(int a, int b);\n",
        "\n",
        "int main() {\n",
        "    greet();  // Call the greet function\n",
        "\n",
        "    int result = add(3, 5);\n",
        "    std::cout << \"The sum is: \" << result << std::endl;\n",
        "\n",
        "    return 0;\n",
        "}\n",
        "\n",
        "// Function definition for greet\n",
        "void greet() {\n",
        "    std::cout << \"Hello! This is a function.\" << std::endl;\n",
        "}\n",
        "\n",
        "// Function definition for add\n",
        "int add(int a, int b) {\n",
        "    return a + b;\n",
        "}\n"
      ],
      "metadata": {
        "colab": {
          "base_uri": "https://localhost:8080/"
        },
        "id": "Y7XWxXWNucw6",
        "outputId": "d964e7e2-885a-4bc7-a41d-a22120a2ff26"
      },
      "execution_count": 9,
      "outputs": [
        {
          "output_type": "stream",
          "name": "stderr",
          "text": [
            "UsageError: Cell magic `%%cpp` not found.\n"
          ]
        }
      ]
    },
    {
      "cell_type": "code",
      "source": [
        "# Compile the C++ code\n",
        "!g++ helloworld1.cpp -o mycppfile\n",
        "\n",
        "# Run the compiled executable\n",
        "!./mycppfile"
      ],
      "metadata": {
        "colab": {
          "base_uri": "https://localhost:8080/"
        },
        "id": "TECcVltkuzf_",
        "outputId": "0421b6b6-ee29-4b8c-86b7-b91912459c88"
      },
      "execution_count": 11,
      "outputs": [
        {
          "output_type": "stream",
          "name": "stdout",
          "text": [
            "Enter your name: Hasan\n",
            "Hello, Hasan!\n"
          ]
        }
      ]
    },
    {
      "cell_type": "code",
      "source": [
        "# prompt: create a header file for c++ and run it using another file\n",
        "\n",
        "\n",
        "// This is a header file\n",
        "#include <iostream>\n",
        "\n",
        "// Function declaration\n",
        "void greet();\n",
        "int add(int a, int b);\n",
        "\n"
      ],
      "metadata": {
        "colab": {
          "base_uri": "https://localhost:8080/"
        },
        "id": "LvtLiWMAvAo0",
        "outputId": "bcc0d9c9-37de-417e-9d7e-aa438eded0d0"
      },
      "execution_count": 13,
      "outputs": [
        {
          "output_type": "stream",
          "name": "stdout",
          "text": [
            "Enter your name: Hello, !\n"
          ]
        }
      ]
    },
    {
      "cell_type": "code",
      "source": [
        "%%writefile multiply.h\n",
        "double multiply(double x, double y);"
      ],
      "metadata": {
        "colab": {
          "base_uri": "https://localhost:8080/"
        },
        "id": "ShVvyxt9vgen",
        "outputId": "119c2081-3e50-49b8-e9f8-3801c42cd9f7"
      },
      "execution_count": 16,
      "outputs": [
        {
          "output_type": "stream",
          "name": "stdout",
          "text": [
            "Overwriting multiply.h\n"
          ]
        }
      ]
    },
    {
      "cell_type": "code",
      "source": [
        "%%writefile multiply.cpp\n",
        "#include \"multiply.h\"\n",
        "double multiply(double x, double y)\n",
        "{\n",
        "  return x*y;\n",
        "}"
      ],
      "metadata": {
        "colab": {
          "base_uri": "https://localhost:8080/"
        },
        "id": "NqY4suGQwalI",
        "outputId": "b0fe9884-2ae1-4706-9680-b92b0448d5e3"
      },
      "execution_count": 19,
      "outputs": [
        {
          "output_type": "stream",
          "name": "stdout",
          "text": [
            "Overwriting multiply.cpp\n"
          ]
        }
      ]
    },
    {
      "cell_type": "code",
      "source": [
        "%%writefile main.cpp\n",
        "#include <iostream>\n",
        "#include \"multiply.h\"\n",
        "using namespace std;\n",
        "\n",
        "int main()\n",
        "{\n",
        "  double a,b;\n",
        "  cin >> a >>b;\n",
        "  cout << multiply(a,b) << '\\n';\n",
        "  return 0;\n",
        "}"
      ],
      "metadata": {
        "colab": {
          "base_uri": "https://localhost:8080/"
        },
        "id": "3M3k0iLGwtxK",
        "outputId": "f005b41c-f3ae-4cab-d438-ddab0174832a"
      },
      "execution_count": 29,
      "outputs": [
        {
          "output_type": "stream",
          "name": "stdout",
          "text": [
            "Overwriting main.cpp\n"
          ]
        }
      ]
    },
    {
      "cell_type": "code",
      "source": [
        "%%script bash\n",
        "g++ main.cpp multiply.cpp -std=c++20 -o product"
      ],
      "metadata": {
        "id": "Iort4Y0QyrMu"
      },
      "execution_count": 30,
      "outputs": []
    },
    {
      "cell_type": "code",
      "source": [
        "!./product"
      ],
      "metadata": {
        "colab": {
          "base_uri": "https://localhost:8080/"
        },
        "id": "T35BccFr1Tqo",
        "outputId": "f6fcf3a1-628c-43f1-cad6-5dc11f10c9de"
      },
      "execution_count": 31,
      "outputs": [
        {
          "output_type": "stream",
          "name": "stdout",
          "text": [
            "3.6\n",
            "6.2\n",
            "22.32\n"
          ]
        }
      ]
    },
    {
      "cell_type": "code",
      "source": [],
      "metadata": {
        "id": "mi6Q3tBk1Wkz"
      },
      "execution_count": null,
      "outputs": []
    }
  ]
}