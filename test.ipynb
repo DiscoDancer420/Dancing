{
  "nbformat": 4,
  "nbformat_minor": 0,
  "metadata": {
    "colab": {
      "provenance": [],
      "authorship_tag": "ABX9TyMmCxEpTBRwUowRlJK0BsHV",
      "include_colab_link": true
    },
    "kernelspec": {
      "name": "python3",
      "display_name": "Python 3"
    },
    "language_info": {
      "name": "python"
    }
  },
  "cells": [
    {
      "cell_type": "markdown",
      "metadata": {
        "id": "view-in-github",
        "colab_type": "text"
      },
      "source": [
        "<a href=\"https://colab.research.google.com/github/DiscoDancer420/Dancing/blob/main/test.ipynb\" target=\"_parent\"><img src=\"https://colab.research.google.com/assets/colab-badge.svg\" alt=\"Open In Colab\"/></a>"
      ]
    },
    {
      "cell_type": "markdown",
      "source": [
        "http://www.cse.uaa.alaska.edu/~afkjm/csce311/spring2021/calendar.html\n",
        "\n",
        "https://colab.research.google.com/drive/1rk_oWaN4NAMzuXO9IRNcmEnmy1w3PmYo#scrollTo=jCjRd0Gbd5KN\n",
        "\n",
        "https://www.youtube.com/watch?v=37Edun_FCk8\n",
        "\n",
        "https://www.youtube.com/watch?v=v2Vo6ggnQkg"
      ],
      "metadata": {
        "id": "3SBkghHJqlfS"
      }
    },
    {
      "cell_type": "code",
      "source": [],
      "metadata": {
        "id": "h5EhV65Dqibn"
      },
      "execution_count": null,
      "outputs": []
    },
    {
      "cell_type": "code",
      "execution_count": null,
      "metadata": {
        "colab": {
          "base_uri": "https://localhost:8080/"
        },
        "id": "6xKn2rSArBPm",
        "outputId": "24ddf7cd-80af-49b1-dbb5-1f3c3a70c8f7"
      },
      "outputs": [
        {
          "output_type": "stream",
          "name": "stdout",
          "text": [
            "Writing helloworld.cpp\n"
          ]
        }
      ],
      "source": [
        "%%writefile helloworld.cpp\n",
        "\n",
        "#include <iostream>\n",
        "\n",
        "using namespace std;\n",
        "\n",
        "int main() {\n",
        "  cout << \"Hello, world!\" << endl;\n",
        "  return 0;\n",
        "}\n"
      ]
    },
    {
      "cell_type": "code",
      "source": [
        "# prompt: run helloworld.cpp file\n",
        "\n",
        "!g++ helloworld.cpp -o helloworld\n",
        "!./helloworld\n"
      ],
      "metadata": {
        "id": "XbN_xCpJr1nr",
        "colab": {
          "base_uri": "https://localhost:8080/"
        },
        "outputId": "025a231d-893e-4628-c1f2-08a64bdf8526"
      },
      "execution_count": null,
      "outputs": [
        {
          "output_type": "stream",
          "name": "stdout",
          "text": [
            "Hello, world!\n"
          ]
        }
      ]
    },
    {
      "cell_type": "code",
      "source": [
        "# prompt: %%writefile helloworld.cpp  #include <iostream>  using namespace std;  int main() {   cout << \"Hello, world!\" << endl;   return 0; } Write it with input\n",
        "\n",
        "%%writefile helloworld1.cpp\n",
        "\n",
        "#include <iostream>\n",
        "\n",
        "using namespace std;\n",
        "\n",
        "int main() {\n",
        "  cout << \"Enter your name: \";\n",
        "  string name;\n",
        "  cin >> name;\n",
        "  cout << \"Hello, \" << name << \"!\" << endl;\n",
        "  return 0;\n",
        "}\n"
      ],
      "metadata": {
        "colab": {
          "base_uri": "https://localhost:8080/"
        },
        "id": "wA996gdptUbl",
        "outputId": "77cfdc74-348b-4065-a1e3-3aeb0d34930e"
      },
      "execution_count": null,
      "outputs": [
        {
          "output_type": "stream",
          "name": "stdout",
          "text": [
            "Writing helloworld1.cpp\n"
          ]
        }
      ]
    },
    {
      "cell_type": "code",
      "source": [
        "# prompt: run helloworld1.cpp\n",
        "\n",
        "!g++ helloworld1.cpp -o helloworld1\n",
        "!./helloworld1\n"
      ],
      "metadata": {
        "colab": {
          "base_uri": "https://localhost:8080/"
        },
        "id": "uW7RXW_Dt7kD",
        "outputId": "e44c721e-4bac-42ec-ad93-54251593ba44"
      },
      "execution_count": null,
      "outputs": [
        {
          "output_type": "stream",
          "name": "stdout",
          "text": [
            "Enter your name: hasan\n",
            "Hello, hasan!\n"
          ]
        }
      ]
    },
    {
      "cell_type": "code",
      "source": [
        "# prompt: use a cpp file in another cpp file\n",
        "\n",
        "!g++ helloworld.cpp helloworld1.cpp -o helloworld2\n",
        "!./helloworld2\n"
      ],
      "metadata": {
        "colab": {
          "base_uri": "https://localhost:8080/"
        },
        "id": "U_3RTIOyuGe3",
        "outputId": "27825f5b-5311-46f7-d9ff-199600277996"
      },
      "execution_count": null,
      "outputs": [
        {
          "output_type": "stream",
          "name": "stdout",
          "text": [
            "/usr/bin/ld: /tmp/ccfLgYfQ.o: in function `main':\n",
            "helloworld1.cpp:(.text+0x0): multiple definition of `main'; /tmp/ccPa1BiJ.o:helloworld.cpp:(.text+0x0): first defined here\n",
            "collect2: error: ld returned 1 exit status\n",
            "/bin/bash: line 1: ./helloworld2: No such file or directory\n"
          ]
        }
      ]
    },
    {
      "cell_type": "code",
      "source": [
        "%%writefile multiply.h\n",
        "double multiply(double x, double y);"
      ],
      "metadata": {
        "colab": {
          "base_uri": "https://localhost:8080/"
        },
        "id": "ShVvyxt9vgen",
        "outputId": "6d7b6a29-8cd8-4bee-cf2c-32564ca12b93"
      },
      "execution_count": null,
      "outputs": [
        {
          "output_type": "stream",
          "name": "stdout",
          "text": [
            "Writing multiply.h\n"
          ]
        }
      ]
    },
    {
      "cell_type": "code",
      "source": [
        "%%writefile multiply.cpp\n",
        "#include \"multiply.h\"\n",
        "double multiply(double x, double y)\n",
        "{\n",
        "  return x*y;\n",
        "}"
      ],
      "metadata": {
        "colab": {
          "base_uri": "https://localhost:8080/"
        },
        "id": "NqY4suGQwalI",
        "outputId": "5774717d-e92b-4d4c-e28e-1ebf716d1f31"
      },
      "execution_count": null,
      "outputs": [
        {
          "output_type": "stream",
          "name": "stdout",
          "text": [
            "Writing multiply.cpp\n"
          ]
        }
      ]
    },
    {
      "cell_type": "code",
      "source": [
        "%%writefile main.cpp\n",
        "#include <iostream>\n",
        "#include \"multiply.h\"\n",
        "using namespace std;\n",
        "\n",
        "int main()\n",
        "{\n",
        "  double a,b;\n",
        "  cin >> a >>b;\n",
        "  cout << multiply(a,b) << '\\n';\n",
        "  return 0;\n",
        "}"
      ],
      "metadata": {
        "colab": {
          "base_uri": "https://localhost:8080/"
        },
        "id": "3M3k0iLGwtxK",
        "outputId": "94c37f80-afc0-44c2-8fa7-78e6e0352b5c"
      },
      "execution_count": null,
      "outputs": [
        {
          "output_type": "stream",
          "name": "stdout",
          "text": [
            "Writing main.cpp\n"
          ]
        }
      ]
    },
    {
      "cell_type": "code",
      "source": [
        "%%script bash\n",
        "g++ main.cpp multiply.cpp -std=c++20 -o product"
      ],
      "metadata": {
        "id": "Iort4Y0QyrMu"
      },
      "execution_count": null,
      "outputs": []
    },
    {
      "cell_type": "code",
      "source": [
        "!./product"
      ],
      "metadata": {
        "colab": {
          "base_uri": "https://localhost:8080/"
        },
        "id": "T35BccFr1Tqo",
        "outputId": "97373981-a14f-4b31-d8c7-565a249e96c5"
      },
      "execution_count": null,
      "outputs": [
        {
          "output_type": "stream",
          "name": "stdout",
          "text": [
            "2\n",
            "3\n",
            "6\n"
          ]
        }
      ]
    },
    {
      "cell_type": "code",
      "source": [
        "# Create the input.txt file\n",
        "with open('input.txt', 'w') as file:\n",
        "    file.write('10 2.5')  # Write the value '10' to the file\n"
      ],
      "metadata": {
        "id": "M08rSxaHJsmY"
      },
      "execution_count": null,
      "outputs": []
    },
    {
      "cell_type": "code",
      "source": [
        "!./product<input.txt"
      ],
      "metadata": {
        "colab": {
          "base_uri": "https://localhost:8080/"
        },
        "id": "eO3ryrX9Jh4z",
        "outputId": "02f2fcf6-2a50-468a-c0ba-8eb55ff8616c"
      },
      "execution_count": null,
      "outputs": [
        {
          "output_type": "stream",
          "name": "stdout",
          "text": [
            "25\n"
          ]
        }
      ]
    },
    {
      "cell_type": "code",
      "source": [
        "!wget https://raw.githubusercontent.com/MikeMirzayanov/testlib/master/testlib.h"
      ],
      "metadata": {
        "colab": {
          "base_uri": "https://localhost:8080/"
        },
        "id": "NUfJHKvoISpS",
        "outputId": "b155c287-e035-44b4-ab27-d4d084f8b827"
      },
      "execution_count": null,
      "outputs": [
        {
          "output_type": "stream",
          "name": "stdout",
          "text": [
            "--2023-12-27 02:55:12--  https://raw.githubusercontent.com/MikeMirzayanov/testlib/master/testlib.h\n",
            "Resolving raw.githubusercontent.com (raw.githubusercontent.com)... 185.199.110.133, 185.199.108.133, 185.199.109.133, ...\n",
            "Connecting to raw.githubusercontent.com (raw.githubusercontent.com)|185.199.110.133|:443... connected.\n",
            "HTTP request sent, awaiting response... 200 OK\n",
            "Length: 198886 (194K) [text/plain]\n",
            "Saving to: ‘testlib.h’\n",
            "\n",
            "testlib.h           100%[===================>] 194.22K  --.-KB/s    in 0.09s   \n",
            "\n",
            "2023-12-27 02:55:12 (2.07 MB/s) - ‘testlib.h’ saved [198886/198886]\n",
            "\n"
          ]
        }
      ]
    },
    {
      "cell_type": "code",
      "source": [
        "%%writefile test.cpp\n",
        "\n",
        "#include \"testlib.h\"\n",
        "#include <iostream>\n",
        "\n",
        "using namespace std;\n",
        "\n",
        "int main(int argc, char* argv[])\n",
        "{\n",
        "    registerGen(argc, argv, 1);\n",
        "    int n = atoi(argv[1]);\n",
        "    cout << rnd.next(1, n) << \" \";\n",
        "    cout << rnd.next(1, n) << endl;\n",
        "}"
      ],
      "metadata": {
        "colab": {
          "base_uri": "https://localhost:8080/"
        },
        "id": "mi6Q3tBk1Wkz",
        "outputId": "9f01826c-2827-448c-9ccc-2d64a79a0e19"
      },
      "execution_count": null,
      "outputs": [
        {
          "output_type": "stream",
          "name": "stdout",
          "text": [
            "Writing test.cpp\n"
          ]
        }
      ]
    },
    {
      "cell_type": "code",
      "source": [
        "%%script bash\n",
        "g++ test.cpp -std=c++20 -o test"
      ],
      "metadata": {
        "id": "yU6bQ8DU6eEu"
      },
      "execution_count": null,
      "outputs": []
    },
    {
      "cell_type": "code",
      "source": [
        "!./test 11"
      ],
      "metadata": {
        "colab": {
          "base_uri": "https://localhost:8080/"
        },
        "id": "EKRfhAJR6hLZ",
        "outputId": "40ec6bf6-437d-4420-fa91-eab19b5e7a76"
      },
      "execution_count": null,
      "outputs": [
        {
          "output_type": "stream",
          "name": "stdout",
          "text": [
            "6 2\n"
          ]
        }
      ]
    },
    {
      "cell_type": "code",
      "source": [
        "!./test 11 22"
      ],
      "metadata": {
        "colab": {
          "base_uri": "https://localhost:8080/"
        },
        "id": "H38pXPli73tP",
        "outputId": "c2ff2608-9201-4166-f09c-96657c115d28"
      },
      "execution_count": null,
      "outputs": [
        {
          "output_type": "stream",
          "name": "stdout",
          "text": [
            "8 1\n"
          ]
        }
      ]
    },
    {
      "cell_type": "code",
      "source": [
        "!apt-get -qq install gdb\n"
      ],
      "metadata": {
        "colab": {
          "base_uri": "https://localhost:8080/"
        },
        "id": "Gg3h4p4EIgeL",
        "outputId": "25bba0cd-7b3b-40f4-ef59-d2543f4283c4"
      },
      "execution_count": null,
      "outputs": [
        {
          "output_type": "stream",
          "name": "stdout",
          "text": [
            "Preconfiguring packages ...\n",
            "Selecting previously unselected package libdebuginfod-common.\n",
            "(Reading database ... 121658 files and directories currently installed.)\n",
            "Preparing to unpack .../0-libdebuginfod-common_0.186-1build1_all.deb ...\n",
            "Unpacking libdebuginfod-common (0.186-1build1) ...\n",
            "Selecting previously unselected package libbabeltrace1:amd64.\n",
            "Preparing to unpack .../1-libbabeltrace1_1.5.8-2build1_amd64.deb ...\n",
            "Unpacking libbabeltrace1:amd64 (1.5.8-2build1) ...\n",
            "Selecting previously unselected package libdebuginfod1:amd64.\n",
            "Preparing to unpack .../2-libdebuginfod1_0.186-1build1_amd64.deb ...\n",
            "Unpacking libdebuginfod1:amd64 (0.186-1build1) ...\n",
            "Selecting previously unselected package libipt2.\n",
            "Preparing to unpack .../3-libipt2_2.0.5-1_amd64.deb ...\n",
            "Unpacking libipt2 (2.0.5-1) ...\n",
            "Selecting previously unselected package libsource-highlight-common.\n",
            "Preparing to unpack .../4-libsource-highlight-common_3.1.9-4.1build2_all.deb ...\n",
            "Unpacking libsource-highlight-common (3.1.9-4.1build2) ...\n",
            "Selecting previously unselected package libsource-highlight4v5.\n",
            "Preparing to unpack .../5-libsource-highlight4v5_3.1.9-4.1build2_amd64.deb ...\n",
            "Unpacking libsource-highlight4v5 (3.1.9-4.1build2) ...\n",
            "Selecting previously unselected package gdb.\n",
            "Preparing to unpack .../6-gdb_12.1-0ubuntu1~22.04_amd64.deb ...\n",
            "Unpacking gdb (12.1-0ubuntu1~22.04) ...\n",
            "Selecting previously unselected package libc6-dbg:amd64.\n",
            "Preparing to unpack .../7-libc6-dbg_2.35-0ubuntu3.5_amd64.deb ...\n",
            "Unpacking libc6-dbg:amd64 (2.35-0ubuntu3.5) ...\n",
            "Setting up libdebuginfod-common (0.186-1build1) ...\n",
            "\n",
            "Creating config file /etc/profile.d/debuginfod.sh with new version\n",
            "\n",
            "Creating config file /etc/profile.d/debuginfod.csh with new version\n",
            "Setting up libdebuginfod1:amd64 (0.186-1build1) ...\n",
            "Setting up libsource-highlight-common (3.1.9-4.1build2) ...\n",
            "Setting up libc6-dbg:amd64 (2.35-0ubuntu3.5) ...\n",
            "Setting up libipt2 (2.0.5-1) ...\n",
            "Setting up libbabeltrace1:amd64 (1.5.8-2build1) ...\n",
            "Setting up libsource-highlight4v5 (3.1.9-4.1build2) ...\n",
            "Setting up gdb (12.1-0ubuntu1~22.04) ...\n",
            "Processing triggers for man-db (2.10.2-1) ...\n",
            "Processing triggers for libc-bin (2.35-0ubuntu3.4) ...\n",
            "/sbin/ldconfig.real: /usr/local/lib/libtbbbind.so.3 is not a symbolic link\n",
            "\n",
            "/sbin/ldconfig.real: /usr/local/lib/libtbbbind_2_5.so.3 is not a symbolic link\n",
            "\n",
            "/sbin/ldconfig.real: /usr/local/lib/libtbbmalloc.so.2 is not a symbolic link\n",
            "\n",
            "/sbin/ldconfig.real: /usr/local/lib/libtbbbind_2_0.so.3 is not a symbolic link\n",
            "\n",
            "/sbin/ldconfig.real: /usr/local/lib/libtbb.so.12 is not a symbolic link\n",
            "\n",
            "/sbin/ldconfig.real: /usr/local/lib/libtbbmalloc_proxy.so.2 is not a symbolic link\n",
            "\n"
          ]
        }
      ]
    },
    {
      "cell_type": "code",
      "source": [
        "!gdb ./test\n"
      ],
      "metadata": {
        "id": "EylAV8zOJKjh"
      },
      "execution_count": null,
      "outputs": []
    },
    {
      "cell_type": "code",
      "source": [],
      "metadata": {
        "id": "QSUFkITnIx8G"
      },
      "execution_count": null,
      "outputs": []
    },
    {
      "cell_type": "code",
      "source": [
        "%%writefile test1.cpp\n",
        "\n",
        "#include \"testlib.h\"\n",
        "#include <iostream>\n",
        "\n",
        "using namespace std;\n",
        "\n",
        "int main(int argc, char* argv[])\n",
        "{\n",
        "    registerGen(argc, argv, 1);\n",
        "\n",
        "    int n = atoi(argv[1]);\n",
        "    int t = atoi(argv[2]);\n",
        "\n",
        "    vector<int> p(n);\n",
        "\n",
        "    /* setup parents for vertices 1..n-1 */\n",
        "    for(int i = 0; i < n; ++i)\n",
        "        if (i > 0)\n",
        "            p[i] = rnd.wnext(i, t);\n",
        "\n",
        "    printf(\"%d\\n\", n);\n",
        "\n",
        "    /* shuffle vertices 1..n-1 */\n",
        "    vector<int> perm(n);\n",
        "    for(int i = 0; i < n; ++i)\n",
        "        perm[i] = i;\n",
        "    shuffle(perm.begin() + 1, perm.end());\n",
        "\n",
        "    /* put edges considering shuffled vertices */\n",
        "    vector<pair<int,int> > edges;\n",
        "    for (int i = 1; i < n; i++)\n",
        "        if (rnd.next(2))\n",
        "            edges.push_back(make_pair(perm[i], perm[p[i]]));\n",
        "        else\n",
        "            edges.push_back(make_pair(perm[p[i]], perm[i]));\n",
        "\n",
        "    /* shuffle edges */\n",
        "    shuffle(edges.begin(), edges.end());\n",
        "\n",
        "    for (int i = 0; i + 1 < n; i++)\n",
        "        printf(\"%d %d\\n\", edges[i].first + 1, edges[i].second + 1);\n",
        "}"
      ],
      "metadata": {
        "colab": {
          "base_uri": "https://localhost:8080/"
        },
        "id": "6v0LGVv2-EgT",
        "outputId": "804322a0-6701-4b35-f4d0-f0605abdb39f"
      },
      "execution_count": null,
      "outputs": [
        {
          "output_type": "stream",
          "name": "stdout",
          "text": [
            "Writing test1.cpp\n"
          ]
        }
      ]
    },
    {
      "cell_type": "code",
      "source": [
        "%%script bash\n",
        "g++ test1.cpp -std=c++20 -o test1"
      ],
      "metadata": {
        "id": "L9lxgMIj8qOj"
      },
      "execution_count": null,
      "outputs": []
    },
    {
      "cell_type": "code",
      "source": [
        "!./test1 10 1000"
      ],
      "metadata": {
        "colab": {
          "base_uri": "https://localhost:8080/"
        },
        "id": "h7jALIw6-Oux",
        "outputId": "aa48a9c6-2be4-4d62-a235-abe885987a6e"
      },
      "execution_count": null,
      "outputs": [
        {
          "output_type": "stream",
          "name": "stdout",
          "text": [
            "10\n",
            "6 2\n",
            "4 9\n",
            "3 8\n",
            "2 3\n",
            "8 10\n",
            "5 10\n",
            "5 9\n",
            "6 7\n",
            "1 4\n"
          ]
        }
      ]
    },
    {
      "cell_type": "code",
      "source": [
        "!./test1 10 -1000"
      ],
      "metadata": {
        "colab": {
          "base_uri": "https://localhost:8080/"
        },
        "id": "l9z2f2w9-WH6",
        "outputId": "7a3dcfd7-cec2-498b-f180-baec2ded1fd0"
      },
      "execution_count": null,
      "outputs": [
        {
          "output_type": "stream",
          "name": "stdout",
          "text": [
            "10\n",
            "9 1\n",
            "1 3\n",
            "2 1\n",
            "1 10\n",
            "1 5\n",
            "6 1\n",
            "7 1\n",
            "8 1\n",
            "1 4\n"
          ]
        }
      ]
    },
    {
      "cell_type": "code",
      "source": [
        "%%writefile main1.cpp\n",
        "#include <iostream>\n",
        "#include \"multiply.h\"\n",
        "using namespace std;\n",
        "\n",
        "int main()\n",
        "{\n",
        "  double a,b;\n",
        "  scanf(\"%lf %lf\", &a, &b);\n",
        "  printf(\"%lf\\n\", multiply(a,b) );\n",
        "  return 0;\n",
        "}"
      ],
      "metadata": {
        "colab": {
          "base_uri": "https://localhost:8080/"
        },
        "id": "vnKcEbFC-fgQ",
        "outputId": "539f996b-7b03-43fd-af73-b3f99e239747"
      },
      "execution_count": null,
      "outputs": [
        {
          "output_type": "stream",
          "name": "stdout",
          "text": [
            "Writing main1.cpp\n"
          ]
        }
      ]
    },
    {
      "cell_type": "code",
      "source": [
        "%%script bash\n",
        "g++ main1.cpp multiply.cpp -std=c++20 -o product1"
      ],
      "metadata": {
        "id": "O5khDeFEBlKE"
      },
      "execution_count": null,
      "outputs": []
    },
    {
      "cell_type": "code",
      "source": [
        "!./product1"
      ],
      "metadata": {
        "colab": {
          "base_uri": "https://localhost:8080/"
        },
        "id": "b7trYb9sBrVw",
        "outputId": "a1160b15-b229-4f01-9220-1c4b5c81a3fb"
      },
      "execution_count": null,
      "outputs": [
        {
          "output_type": "stream",
          "name": "stdout",
          "text": [
            "2\n",
            "3\n",
            "6.000000\n"
          ]
        }
      ]
    },
    {
      "cell_type": "code",
      "source": [],
      "metadata": {
        "id": "oMt0yyOoE0fP"
      },
      "execution_count": null,
      "outputs": []
    },
    {
      "cell_type": "code",
      "source": [],
      "metadata": {
        "id": "3Vs3owKPKffI"
      },
      "execution_count": null,
      "outputs": []
    },
    {
      "cell_type": "code",
      "source": [],
      "metadata": {
        "id": "9llTDDahKf9Z"
      },
      "execution_count": null,
      "outputs": []
    },
    {
      "cell_type": "code",
      "metadata": {
        "id": "jCjRd0Gbd5KN",
        "colab": {
          "base_uri": "https://localhost:8080/"
        },
        "outputId": "609a4a0b-19d7-44b4-a310-e9c52abd6914"
      },
      "source": [
        "%%writefile GenericArray.h\n",
        "\n",
        "#pragma once\n",
        "#include <iostream>\n",
        "using namespace std;\n",
        "\n",
        "template<class T>\n",
        "class GenericArray\n",
        "{\n",
        " public:\n",
        "   GenericArray(int max);\n",
        "   ~GenericArray();\n",
        "   void add(T newItem);\n",
        "   // Overloaded << operator\n",
        "   friend ostream& operator <<(ostream& outs, const GenericArray<T> &ary) {\n",
        "\t  for (int i = 0; i < ary.currentLength; i++)\n",
        "\t\t  outs << ary.item[i] << endl;\n",
        "    return outs;\n",
        "   }\n",
        "   //Overloads the << operator so it can be used to output the\n",
        "   //contents of the list. The items are output one per line.\n",
        "   //Precondition: If outs is a file output stream, then outs has\n",
        "   //already been connected to a file.\n",
        "   //\n",
        "   //Note the implementation of the overloaded << in the header\n",
        "   //file! This is commonly done with overloaded friend templates.\n",
        "   //Since << is a friend it is NOT a member of the class but\n",
        "   //rather in the namespace, this is the simplest implementation\n",
        "   //and may make more sense than putting it in genericlist.cpp.\n",
        " private:\n",
        "    T *item; // Pointer to dynamic array to hold generic array\n",
        "    int maxLength;\n",
        "    int currentLength;\n",
        "};"
      ],
      "execution_count": null,
      "outputs": [
        {
          "output_type": "stream",
          "name": "stdout",
          "text": [
            "Writing GenericArray.h\n"
          ]
        }
      ]
    },
    {
      "cell_type": "code",
      "metadata": {
        "id": "8MqPMfe1eO2S",
        "colab": {
          "base_uri": "https://localhost:8080/"
        },
        "outputId": "e0362b66-4d4a-445b-aa40-1ddd41d96040"
      },
      "source": [
        "%%writefile GenericArray.cpp\n",
        "\n",
        "#include <iostream>\n",
        "#include <cstdlib>\n",
        "#include \"GenericArray.h\"\n",
        "using namespace std;\n",
        "\n",
        "template<class T>\n",
        "GenericArray<T>::GenericArray(int max) : maxLength(max), currentLength(0)\n",
        "{\n",
        "  item = new T[max];\n",
        "}\n",
        "\n",
        "template<class T>\n",
        "GenericArray<T>::~GenericArray()\n",
        "{\n",
        "  delete[] item;\n",
        "}\n",
        "\n",
        "template<class T>\n",
        "void GenericArray<T>::add(T newItem)\n",
        "{\n",
        "   if (currentLength >= maxLength)\n",
        "   {\n",
        "\t  cout << \"Error, full\" << endl;\n",
        "\t  return;\n",
        "   }\n",
        "   else\n",
        "   {\n",
        "  \titem[currentLength] = newItem;\n",
        "\t  currentLength++;\n",
        "   }\n",
        "}\n"
      ],
      "execution_count": null,
      "outputs": [
        {
          "output_type": "stream",
          "name": "stdout",
          "text": [
            "Writing GenericArray.cpp\n"
          ]
        }
      ]
    },
    {
      "cell_type": "code",
      "metadata": {
        "id": "hfsZBqkBeXwp",
        "colab": {
          "base_uri": "https://localhost:8080/"
        },
        "outputId": "12e09bb7-a1de-446b-9bc2-aa6b157462a4"
      },
      "source": [
        "%%writefile main.cpp\n",
        "\n",
        "#include <iostream>\n",
        "#include \"GenericArray.cpp\"  // Include implmentation with template classes\n",
        "using namespace std;\n",
        "\n",
        "int main()\n",
        "{\n",
        "   GenericArray<int> first(2);\n",
        "   first.add(10);\n",
        "   first.add(20);\n",
        "   cout << \"First list\\n\" << first << endl;\n",
        "\n",
        "   GenericArray<char> second(3);\n",
        "   second.add('A');\n",
        "   second.add('B');\n",
        "   second.add('C');\n",
        "   cout << \"Second list\\n\" << second << endl;\n",
        "\n",
        "   return 0;\n",
        "}"
      ],
      "execution_count": null,
      "outputs": [
        {
          "output_type": "stream",
          "name": "stdout",
          "text": [
            "Overwriting main.cpp\n"
          ]
        }
      ]
    },
    {
      "cell_type": "code",
      "metadata": {
        "id": "O_Bkmy5OeeKC",
        "colab": {
          "base_uri": "https://localhost:8080/"
        },
        "outputId": "582af0d4-6267-44f2-8173-743b9b944ef3"
      },
      "source": [
        "%%script bash\n",
        "\n",
        "g++ main.cpp -std=c++11\n",
        "./a.out"
      ],
      "execution_count": null,
      "outputs": [
        {
          "output_type": "stream",
          "name": "stdout",
          "text": [
            "First list\n",
            "10\n",
            "20\n",
            "\n",
            "Second list\n",
            "A\n",
            "B\n",
            "C\n",
            "\n"
          ]
        }
      ]
    },
    {
      "cell_type": "code",
      "source": [],
      "metadata": {
        "id": "_lIFNGKsKioO"
      },
      "execution_count": null,
      "outputs": []
    },
    {
      "cell_type": "code",
      "source": [],
      "metadata": {
        "id": "E68Z_cUOLg2O"
      },
      "execution_count": null,
      "outputs": []
    },
    {
      "cell_type": "code",
      "source": [],
      "metadata": {
        "id": "DIEDHujSLhLE"
      },
      "execution_count": null,
      "outputs": []
    },
    {
      "cell_type": "code",
      "source": [],
      "metadata": {
        "id": "oMd2tCjiLhu8"
      },
      "execution_count": null,
      "outputs": []
    },
    {
      "cell_type": "code",
      "metadata": {
        "id": "2hQq1ip1E47g",
        "colab": {
          "base_uri": "https://localhost:8080/"
        },
        "outputId": "ce055859-b7aa-48e6-b825-552a51765693"
      },
      "source": [
        "%%writefile node.h\n",
        "\n",
        "#pragma once\n",
        "#include <iostream>\n",
        "using namespace std;\n",
        "\n",
        "template<class T>\n",
        "class Node\n",
        "{\n",
        " public:\n",
        "  Node();\n",
        "  Node(T item);\n",
        "  ~Node();\n",
        "  T& getItem();\n",
        "  void setLeft(Node *next);\n",
        "  void setRight(Node *next);\n",
        "  void setParent(Node *next);\n",
        "  Node<T>* getLeft();\n",
        "  Node<T>* getRight();\n",
        "  Node<T>* getParent();\n",
        " private:\n",
        "  T item;\n",
        "  Node<T>* left;\n",
        "  Node<T>* right;\n",
        "  Node<T>* parent;\n",
        "};"
      ],
      "execution_count": null,
      "outputs": [
        {
          "output_type": "stream",
          "name": "stdout",
          "text": [
            "Writing node.h\n"
          ]
        }
      ]
    },
    {
      "cell_type": "code",
      "metadata": {
        "id": "UWEMtLF8Gm0m",
        "colab": {
          "base_uri": "https://localhost:8080/"
        },
        "outputId": "e77a14d5-33e6-4115-dafb-88369d34dab2"
      },
      "source": [
        "%%writefile node.cpp\n",
        "\n",
        "#include <iostream>\n",
        "#include \"node.h\"\n",
        "\n",
        "template<class T>\n",
        "Node<T>::Node()\n",
        "{\n",
        " left = nullptr;\n",
        " right = nullptr;\n",
        " parent = nullptr;\n",
        "}\n",
        "\n",
        "template<class T>\n",
        "Node<T>::Node(T item) : item(item)\n",
        "{\n",
        " left = nullptr;\n",
        " right = nullptr;\n",
        " parent = nullptr;\n",
        "}\n",
        "\n",
        "template<class T>\n",
        "Node<T>::~Node()\n",
        "{\n",
        "}\n",
        "\n",
        "template<class T>\n",
        "Node<T>* Node<T>::getLeft()\n",
        "{\n",
        "  return left;\n",
        "}\n",
        "\n",
        "template<class T>\n",
        "Node<T>* Node<T>::getRight()\n",
        "{\n",
        "  return right;\n",
        "}\n",
        "\n",
        "template<class T>\n",
        "Node<T>* Node<T>::getParent()\n",
        "{\n",
        "  return parent;\n",
        "}\n",
        "\n",
        "template<class T>\n",
        "void Node<T>::setLeft(Node *n)\n",
        "{\n",
        "  left = n;\n",
        "}\n",
        "\n",
        "template<class T>\n",
        "void Node<T>::setRight(Node *n)\n",
        "{\n",
        "  right = n;\n",
        "}\n",
        "\n",
        "template<class T>\n",
        "void Node<T>::setParent(Node *n)\n",
        "{\n",
        "  parent = n;\n",
        "}\n",
        "\n",
        "template<class T>\n",
        "T& Node<T>::getItem()\n",
        "{\n",
        "  return item;\n",
        "}"
      ],
      "execution_count": null,
      "outputs": [
        {
          "output_type": "stream",
          "name": "stdout",
          "text": [
            "Writing node.cpp\n"
          ]
        }
      ]
    },
    {
      "cell_type": "code",
      "metadata": {
        "id": "SLWf5xA4T4_9",
        "colab": {
          "base_uri": "https://localhost:8080/"
        },
        "outputId": "00381efc-288d-428d-dac3-3fcc2e84e778"
      },
      "source": [
        "%%writefile mainTest.cpp\n",
        "\n",
        "#include \"node.cpp\"\n",
        "#include <iostream>\n",
        "\n",
        "using namespace std;\n",
        "\n",
        "void inOrder(Node<int> *n)\n",
        "{\n",
        "  if (n != nullptr)\n",
        "  {\n",
        "\tinOrder(n->getLeft());\n",
        "\tcout << n->getItem() << endl;\n",
        "\tinOrder(n->getRight());\n",
        "  }\n",
        "}\n",
        "\n",
        "int main()\n",
        "{\n",
        "  Node<int> root(5);\n",
        "  Node<int> n1(3);\n",
        "  Node<int> n2(2);\n",
        "  Node<int> n3(5);\n",
        "  Node<int> n4(7);\n",
        "  Node<int> n5(8);\n",
        "  root.setLeft(&n1); root.setRight(&n4);\n",
        "  n1.setLeft(&n2); n1.setRight(&n3);\n",
        "  n4.setRight(&n5);\n",
        "\n",
        "  inOrder(&root);\n",
        "\n",
        "  return 0;\n",
        "}"
      ],
      "execution_count": null,
      "outputs": [
        {
          "output_type": "stream",
          "name": "stdout",
          "text": [
            "Writing mainTest.cpp\n"
          ]
        }
      ]
    },
    {
      "cell_type": "code",
      "metadata": {
        "id": "QASkK32AT9mc",
        "colab": {
          "base_uri": "https://localhost:8080/"
        },
        "outputId": "78d25b69-74f2-410e-83d7-a7fb1b036193"
      },
      "source": [
        "%%script bash\n",
        "\n",
        "g++ mainTest.cpp -std=c++11\n",
        "./a.out"
      ],
      "execution_count": null,
      "outputs": [
        {
          "output_type": "stream",
          "name": "stdout",
          "text": [
            "2\n",
            "3\n",
            "5\n",
            "5\n",
            "7\n",
            "8\n"
          ]
        }
      ]
    },
    {
      "cell_type": "code",
      "source": [],
      "metadata": {
        "id": "4a98-uGBLs62"
      },
      "execution_count": null,
      "outputs": []
    }
  ]
}