{
  "nbformat": 4,
  "nbformat_minor": 0,
  "metadata": {
    "colab": {
      "provenance": [],
      "authorship_tag": "ABX9TyO66lS9v/zbhGvkuNSnVowu",
      "include_colab_link": true
    },
    "kernelspec": {
      "name": "python3",
      "display_name": "Python 3"
    },
    "language_info": {
      "name": "python"
    }
  },
  "cells": [
    {
      "cell_type": "markdown",
      "metadata": {
        "id": "view-in-github",
        "colab_type": "text"
      },
      "source": [
        "<a href=\"https://colab.research.google.com/github/DiscoDancer420/Dancing/blob/main/test.ipynb\" target=\"_parent\"><img src=\"https://colab.research.google.com/assets/colab-badge.svg\" alt=\"Open In Colab\"/></a>"
      ]
    },
    {
      "cell_type": "code",
      "execution_count": null,
      "metadata": {
        "colab": {
          "base_uri": "https://localhost:8080/"
        },
        "id": "6xKn2rSArBPm",
        "outputId": "41487434-eaf7-4b3b-c920-1c5063ac58fe"
      },
      "outputs": [
        {
          "output_type": "stream",
          "name": "stdout",
          "text": [
            "Writing helloworld.cpp\n"
          ]
        }
      ],
      "source": [
        "%%writefile helloworld.cpp\n",
        "\n",
        "#include <iostream>\n",
        "\n",
        "using namespace std;\n",
        "\n",
        "int main() {\n",
        "  cout << \"Hello, world!\" << endl;\n",
        "  return 0;\n",
        "}\n"
      ]
    },
    {
      "cell_type": "code",
      "source": [
        "# prompt: run helloworld.cpp file\n",
        "\n",
        "!g++ helloworld.cpp -o helloworld\n",
        "!./helloworld\n"
      ],
      "metadata": {
        "id": "XbN_xCpJr1nr",
        "colab": {
          "base_uri": "https://localhost:8080/"
        },
        "outputId": "f1b0a612-cff5-4bbd-bba2-6b01d12e6bd8"
      },
      "execution_count": 4,
      "outputs": [
        {
          "output_type": "stream",
          "name": "stdout",
          "text": [
            "Hello, world!\n"
          ]
        }
      ]
    },
    {
      "cell_type": "code",
      "source": [
        "# prompt: %%writefile helloworld.cpp  #include <iostream>  using namespace std;  int main() {   cout << \"Hello, world!\" << endl;   return 0; } Write it with input\n",
        "\n",
        "%%writefile helloworld1.cpp\n",
        "\n",
        "#include <iostream>\n",
        "\n",
        "using namespace std;\n",
        "\n",
        "int main() {\n",
        "  cout << \"Enter your name: \";\n",
        "  string name;\n",
        "  cin >> name;\n",
        "  cout << \"Hello, \" << name << \"!\" << endl;\n",
        "  return 0;\n",
        "}\n"
      ],
      "metadata": {
        "colab": {
          "base_uri": "https://localhost:8080/"
        },
        "id": "wA996gdptUbl",
        "outputId": "474745bf-6b38-4eaf-912a-17fbac11faec"
      },
      "execution_count": 6,
      "outputs": [
        {
          "output_type": "stream",
          "name": "stdout",
          "text": [
            "Overwriting helloworld1.cpp\n"
          ]
        }
      ]
    },
    {
      "cell_type": "code",
      "source": [
        "# prompt: run helloworld1.cpp\n",
        "\n",
        "!g++ helloworld1.cpp -o helloworld1\n",
        "!./helloworld1\n"
      ],
      "metadata": {
        "colab": {
          "base_uri": "https://localhost:8080/"
        },
        "id": "uW7RXW_Dt7kD",
        "outputId": "0379c556-8cb3-4869-f914-1dba5efbe27e"
      },
      "execution_count": 7,
      "outputs": [
        {
          "output_type": "stream",
          "name": "stdout",
          "text": [
            "Enter your name: Hasan\n",
            "Hello, Hasan!\n"
          ]
        }
      ]
    },
    {
      "cell_type": "code",
      "source": [
        "# prompt: use a cpp file in another cpp file\n",
        "\n",
        "!g++ helloworld.cpp helloworld1.cpp -o helloworld2\n",
        "!./helloworld2\n"
      ],
      "metadata": {
        "colab": {
          "base_uri": "https://localhost:8080/"
        },
        "id": "U_3RTIOyuGe3",
        "outputId": "3a6c2255-e4f2-4494-8968-e9bba315dac6"
      },
      "execution_count": 8,
      "outputs": [
        {
          "output_type": "stream",
          "name": "stdout",
          "text": [
            "/usr/bin/ld: /tmp/cczosTMl.o: in function `main':\n",
            "helloworld1.cpp:(.text+0x0): multiple definition of `main'; /tmp/ccbkwRuD.o:helloworld.cpp:(.text+0x0): first defined here\n",
            "collect2: error: ld returned 1 exit status\n",
            "/bin/bash: line 1: ./helloworld2: No such file or directory\n"
          ]
        }
      ]
    },
    {
      "cell_type": "code",
      "source": [
        "%%writefile multiply.h\n",
        "double multiply(double x, double y);"
      ],
      "metadata": {
        "colab": {
          "base_uri": "https://localhost:8080/"
        },
        "id": "ShVvyxt9vgen",
        "outputId": "818c8d89-3259-49d9-8992-8e8a36b79a23"
      },
      "execution_count": 17,
      "outputs": [
        {
          "output_type": "stream",
          "name": "stdout",
          "text": [
            "Writing multiply.h\n"
          ]
        }
      ]
    },
    {
      "cell_type": "code",
      "source": [
        "%%writefile multiply.cpp\n",
        "#include \"multiply.h\"\n",
        "double multiply(double x, double y)\n",
        "{\n",
        "  return x*y;\n",
        "}"
      ],
      "metadata": {
        "colab": {
          "base_uri": "https://localhost:8080/"
        },
        "id": "NqY4suGQwalI",
        "outputId": "552a8a5f-ce86-4e81-8c72-2d8bf4e780f1"
      },
      "execution_count": 18,
      "outputs": [
        {
          "output_type": "stream",
          "name": "stdout",
          "text": [
            "Writing multiply.cpp\n"
          ]
        }
      ]
    },
    {
      "cell_type": "code",
      "source": [
        "%%writefile main.cpp\n",
        "#include <iostream>\n",
        "#include \"multiply.h\"\n",
        "using namespace std;\n",
        "\n",
        "int main()\n",
        "{\n",
        "  double a,b;\n",
        "  cin >> a >>b;\n",
        "  cout << multiply(a,b) << '\\n';\n",
        "  return 0;\n",
        "}"
      ],
      "metadata": {
        "colab": {
          "base_uri": "https://localhost:8080/"
        },
        "id": "3M3k0iLGwtxK",
        "outputId": "ee685e49-4639-423b-e02f-ad5879be4299"
      },
      "execution_count": 19,
      "outputs": [
        {
          "output_type": "stream",
          "name": "stdout",
          "text": [
            "Writing main.cpp\n"
          ]
        }
      ]
    },
    {
      "cell_type": "code",
      "source": [
        "%%script bash\n",
        "g++ main.cpp multiply.cpp -std=c++20 -o product"
      ],
      "metadata": {
        "id": "Iort4Y0QyrMu"
      },
      "execution_count": 20,
      "outputs": []
    },
    {
      "cell_type": "code",
      "source": [
        "!./product"
      ],
      "metadata": {
        "colab": {
          "base_uri": "https://localhost:8080/"
        },
        "id": "T35BccFr1Tqo",
        "outputId": "9664012f-5c50-45df-f8e3-d0ed715ab413"
      },
      "execution_count": 21,
      "outputs": [
        {
          "output_type": "stream",
          "name": "stdout",
          "text": [
            "2.3\n",
            "3.4\n",
            "7.82\n"
          ]
        }
      ]
    },
    {
      "cell_type": "code",
      "source": [
        "# Create the input.txt file\n",
        "with open('input.txt', 'w') as file:\n",
        "    file.write('10 2.5')  # Write the value '10' to the file\n"
      ],
      "metadata": {
        "id": "M08rSxaHJsmY"
      },
      "execution_count": 28,
      "outputs": []
    },
    {
      "cell_type": "code",
      "source": [
        "!./product<input.txt"
      ],
      "metadata": {
        "colab": {
          "base_uri": "https://localhost:8080/"
        },
        "id": "eO3ryrX9Jh4z",
        "outputId": "f7ff123f-45ea-410e-f69a-622ff5a20dae"
      },
      "execution_count": 29,
      "outputs": [
        {
          "output_type": "stream",
          "name": "stdout",
          "text": [
            "25\n"
          ]
        }
      ]
    },
    {
      "cell_type": "code",
      "source": [
        "!wget https://raw.githubusercontent.com/MikeMirzayanov/testlib/master/testlib.h"
      ],
      "metadata": {
        "colab": {
          "base_uri": "https://localhost:8080/"
        },
        "id": "NUfJHKvoISpS",
        "outputId": "4586195b-f79f-40cd-be3b-51271fdd3d30"
      },
      "execution_count": 1,
      "outputs": [
        {
          "output_type": "stream",
          "name": "stdout",
          "text": [
            "--2023-12-27 02:36:42--  https://raw.githubusercontent.com/MikeMirzayanov/testlib/master/testlib.h\n",
            "Resolving raw.githubusercontent.com (raw.githubusercontent.com)... 185.199.109.133, 185.199.108.133, 185.199.111.133, ...\n",
            "Connecting to raw.githubusercontent.com (raw.githubusercontent.com)|185.199.109.133|:443... connected.\n",
            "HTTP request sent, awaiting response... 200 OK\n",
            "Length: 198886 (194K) [text/plain]\n",
            "Saving to: ‘testlib.h’\n",
            "\n",
            "\rtestlib.h             0%[                    ]       0  --.-KB/s               \rtestlib.h           100%[===================>] 194.22K  --.-KB/s    in 0.03s   \n",
            "\n",
            "2023-12-27 02:36:42 (5.58 MB/s) - ‘testlib.h’ saved [198886/198886]\n",
            "\n"
          ]
        }
      ]
    },
    {
      "cell_type": "code",
      "source": [
        "%%writefile test.cpp\n",
        "\n",
        "#include \"testlib.h\"\n",
        "#include <iostream>\n",
        "\n",
        "using namespace std;\n",
        "\n",
        "int main(int argc, char* argv[])\n",
        "{\n",
        "    registerGen(argc, argv, 1);\n",
        "    int n = atoi(argv[1]);\n",
        "    cout << rnd.next(1, n) << \" \";\n",
        "    cout << rnd.next(1, n) << endl;\n",
        "}"
      ],
      "metadata": {
        "colab": {
          "base_uri": "https://localhost:8080/"
        },
        "id": "mi6Q3tBk1Wkz",
        "outputId": "cd996736-7aa4-418b-bc0e-2cfb7fce9663"
      },
      "execution_count": 9,
      "outputs": [
        {
          "output_type": "stream",
          "name": "stdout",
          "text": [
            "Overwriting test.cpp\n"
          ]
        }
      ]
    },
    {
      "cell_type": "code",
      "source": [
        "%%script bash\n",
        "g++ test.cpp -std=c++20 -o test"
      ],
      "metadata": {
        "id": "yU6bQ8DU6eEu"
      },
      "execution_count": 10,
      "outputs": []
    },
    {
      "cell_type": "code",
      "source": [
        "!./test 11"
      ],
      "metadata": {
        "colab": {
          "base_uri": "https://localhost:8080/"
        },
        "id": "EKRfhAJR6hLZ",
        "outputId": "d74c293f-c4e9-40ec-af6b-5c65ca471224"
      },
      "execution_count": 11,
      "outputs": [
        {
          "output_type": "stream",
          "name": "stdout",
          "text": [
            "6 2\n"
          ]
        }
      ]
    },
    {
      "cell_type": "code",
      "source": [
        "!./test 11 22"
      ],
      "metadata": {
        "colab": {
          "base_uri": "https://localhost:8080/"
        },
        "id": "H38pXPli73tP",
        "outputId": "2cd8bfce-3317-4aaf-ec4d-886393f15e1e"
      },
      "execution_count": 12,
      "outputs": [
        {
          "output_type": "stream",
          "name": "stdout",
          "text": [
            "8 1\n"
          ]
        }
      ]
    },
    {
      "cell_type": "code",
      "source": [],
      "metadata": {
        "id": "Gg3h4p4EIgeL"
      },
      "execution_count": 13,
      "outputs": []
    },
    {
      "cell_type": "code",
      "source": [
        "!gdb ./test\n"
      ],
      "metadata": {
        "colab": {
          "base_uri": "https://localhost:8080/"
        },
        "id": "EylAV8zOJKjh",
        "outputId": "3cd492b5-73de-48fc-fd22-cd70e445844b"
      },
      "execution_count": 14,
      "outputs": [
        {
          "output_type": "stream",
          "name": "stdout",
          "text": [
            "/bin/bash: line 1: gdb: command not found\n"
          ]
        }
      ]
    },
    {
      "cell_type": "code",
      "source": [],
      "metadata": {
        "colab": {
          "base_uri": "https://localhost:8080/"
        },
        "id": "QSUFkITnIx8G",
        "outputId": "91b7d931-f83f-495e-f35b-04654c491dc0"
      },
      "execution_count": 16,
      "outputs": [
        {
          "output_type": "stream",
          "name": "stdout",
          "text": [
            "/bin/bash: line 1:  1408 Segmentation fault      (core dumped) ./test < input.txt\n"
          ]
        }
      ]
    },
    {
      "cell_type": "code",
      "source": [
        "%%writefile test1.cpp\n",
        "\n",
        "#include \"testlib.h\"\n",
        "#include <iostream>\n",
        "\n",
        "using namespace std;\n",
        "\n",
        "int main(int argc, char* argv[])\n",
        "{\n",
        "    registerGen(argc, argv, 1);\n",
        "\n",
        "    int n = atoi(argv[1]);\n",
        "    int t = atoi(argv[2]);\n",
        "\n",
        "    vector<int> p(n);\n",
        "\n",
        "    /* setup parents for vertices 1..n-1 */\n",
        "    for(int i = 0; i < n; ++i)\n",
        "        if (i > 0)\n",
        "            p[i] = rnd.wnext(i, t);\n",
        "\n",
        "    printf(\"%d\\n\", n);\n",
        "\n",
        "    /* shuffle vertices 1..n-1 */\n",
        "    vector<int> perm(n);\n",
        "    for(int i = 0; i < n; ++i)\n",
        "        perm[i] = i;\n",
        "    shuffle(perm.begin() + 1, perm.end());\n",
        "\n",
        "    /* put edges considering shuffled vertices */\n",
        "    vector<pair<int,int> > edges;\n",
        "    for (int i = 1; i < n; i++)\n",
        "        if (rnd.next(2))\n",
        "            edges.push_back(make_pair(perm[i], perm[p[i]]));\n",
        "        else\n",
        "            edges.push_back(make_pair(perm[p[i]], perm[i]));\n",
        "\n",
        "    /* shuffle edges */\n",
        "    shuffle(edges.begin(), edges.end());\n",
        "\n",
        "    for (int i = 0; i + 1 < n; i++)\n",
        "        printf(\"%d %d\\n\", edges[i].first + 1, edges[i].second + 1);\n",
        "}"
      ],
      "metadata": {
        "colab": {
          "base_uri": "https://localhost:8080/"
        },
        "id": "6v0LGVv2-EgT",
        "outputId": "23f550ed-0d07-4f23-9458-af22ae08b26a"
      },
      "execution_count": 45,
      "outputs": [
        {
          "output_type": "stream",
          "name": "stdout",
          "text": [
            "Writing test1.cpp\n"
          ]
        }
      ]
    },
    {
      "cell_type": "code",
      "source": [
        "%%script bash\n",
        "g++ test1.cpp -std=c++20 -o test1"
      ],
      "metadata": {
        "id": "L9lxgMIj8qOj"
      },
      "execution_count": 46,
      "outputs": []
    },
    {
      "cell_type": "code",
      "source": [
        "!./test1 10 1000"
      ],
      "metadata": {
        "colab": {
          "base_uri": "https://localhost:8080/"
        },
        "id": "h7jALIw6-Oux",
        "outputId": "2b7a0592-972f-4e2c-c8c9-4489126b8016"
      },
      "execution_count": 47,
      "outputs": [
        {
          "output_type": "stream",
          "name": "stdout",
          "text": [
            "10\n",
            "6 2\n",
            "4 9\n",
            "3 8\n",
            "2 3\n",
            "8 10\n",
            "5 10\n",
            "5 9\n",
            "6 7\n",
            "1 4\n"
          ]
        }
      ]
    },
    {
      "cell_type": "code",
      "source": [
        "!./test1 10 -1000"
      ],
      "metadata": {
        "colab": {
          "base_uri": "https://localhost:8080/"
        },
        "id": "l9z2f2w9-WH6",
        "outputId": "96238d32-7d62-4c02-f903-862160ec1e13"
      },
      "execution_count": 48,
      "outputs": [
        {
          "output_type": "stream",
          "name": "stdout",
          "text": [
            "10\n",
            "9 1\n",
            "1 3\n",
            "2 1\n",
            "1 10\n",
            "1 5\n",
            "6 1\n",
            "7 1\n",
            "8 1\n",
            "1 4\n"
          ]
        }
      ]
    },
    {
      "cell_type": "code",
      "source": [
        "%%writefile main1.cpp\n",
        "#include <iostream>\n",
        "#include \"multiply.h\"\n",
        "using namespace std;\n",
        "\n",
        "int main()\n",
        "{\n",
        "  double a,b;\n",
        "  scanf(\"%lf %lf\", &a, &b);\n",
        "  printf(\"%lf\\n\", multiply(a,b) );\n",
        "  return 0;\n",
        "}"
      ],
      "metadata": {
        "colab": {
          "base_uri": "https://localhost:8080/"
        },
        "id": "vnKcEbFC-fgQ",
        "outputId": "9f7eded3-75b1-469b-f4df-7c3ae4a9a01f"
      },
      "execution_count": 50,
      "outputs": [
        {
          "output_type": "stream",
          "name": "stdout",
          "text": [
            "Overwriting main1.cpp\n"
          ]
        }
      ]
    },
    {
      "cell_type": "code",
      "source": [
        "%%script bash\n",
        "g++ main1.cpp multiply.cpp -std=c++20 -o product1"
      ],
      "metadata": {
        "id": "O5khDeFEBlKE"
      },
      "execution_count": 51,
      "outputs": []
    },
    {
      "cell_type": "code",
      "source": [
        "!./product1"
      ],
      "metadata": {
        "colab": {
          "base_uri": "https://localhost:8080/"
        },
        "id": "b7trYb9sBrVw",
        "outputId": "3f5cb910-50c3-4026-8331-d870d8f7ac11"
      },
      "execution_count": 52,
      "outputs": [
        {
          "output_type": "stream",
          "name": "stdout",
          "text": [
            "1\n",
            "2.7\n",
            "2.700000\n"
          ]
        }
      ]
    },
    {
      "cell_type": "code",
      "source": [],
      "metadata": {
        "id": "oMt0yyOoE0fP"
      },
      "execution_count": null,
      "outputs": []
    },
    {
      "cell_type": "code",
      "source": [],
      "metadata": {
        "id": "3Vs3owKPKffI"
      },
      "execution_count": null,
      "outputs": []
    },
    {
      "cell_type": "code",
      "source": [],
      "metadata": {
        "id": "9llTDDahKf9Z"
      },
      "execution_count": null,
      "outputs": []
    },
    {
      "cell_type": "code",
      "metadata": {
        "id": "jCjRd0Gbd5KN",
        "colab": {
          "base_uri": "https://localhost:8080/"
        },
        "outputId": "ceca9520-bab6-4737-9ed4-13929b705093"
      },
      "source": [
        "%%writefile GenericArray.h\n",
        "\n",
        "#pragma once\n",
        "#include <iostream>\n",
        "using namespace std;\n",
        "\n",
        "template<class T>\n",
        "class GenericArray\n",
        "{\n",
        " public:\n",
        "   GenericArray(int max);\n",
        "   ~GenericArray();\n",
        "   void add(T newItem);\n",
        "   // Overloaded << operator\n",
        "   friend ostream& operator <<(ostream& outs, const GenericArray<T> &ary) {\n",
        "\t  for (int i = 0; i < ary.currentLength; i++)\n",
        "\t\t  outs << ary.item[i] << endl;\n",
        "    return outs;\n",
        "   }\n",
        "   //Overloads the << operator so it can be used to output the\n",
        "   //contents of the list. The items are output one per line.\n",
        "   //Precondition: If outs is a file output stream, then outs has\n",
        "   //already been connected to a file.\n",
        "   //\n",
        "   //Note the implementation of the overloaded << in the header\n",
        "   //file! This is commonly done with overloaded friend templates.\n",
        "   //Since << is a friend it is NOT a member of the class but\n",
        "   //rather in the namespace, this is the simplest implementation\n",
        "   //and may make more sense than putting it in genericlist.cpp.\n",
        " private:\n",
        "    T *item; // Pointer to dynamic array to hold generic array\n",
        "    int maxLength;\n",
        "    int currentLength;\n",
        "};"
      ],
      "execution_count": 34,
      "outputs": [
        {
          "output_type": "stream",
          "name": "stdout",
          "text": [
            "Overwriting GenericArray.h\n"
          ]
        }
      ]
    },
    {
      "cell_type": "code",
      "metadata": {
        "id": "8MqPMfe1eO2S",
        "colab": {
          "base_uri": "https://localhost:8080/"
        },
        "outputId": "08eeea52-8809-4f0f-b0ac-4f94fbaccee0"
      },
      "source": [
        "%%writefile GenericArray.cpp\n",
        "\n",
        "#include <iostream>\n",
        "#include <cstdlib>\n",
        "#include \"GenericArray.h\"\n",
        "using namespace std;\n",
        "\n",
        "template<class T>\n",
        "GenericArray<T>::GenericArray(int max) : maxLength(max), currentLength(0)\n",
        "{\n",
        "  item = new T[max];\n",
        "}\n",
        "\n",
        "template<class T>\n",
        "GenericArray<T>::~GenericArray()\n",
        "{\n",
        "  delete[] item;\n",
        "}\n",
        "\n",
        "template<class T>\n",
        "void GenericArray<T>::add(T newItem)\n",
        "{\n",
        "   if (currentLength >= maxLength)\n",
        "   {\n",
        "\t  cout << \"Error, full\" << endl;\n",
        "\t  return;\n",
        "   }\n",
        "   else\n",
        "   {\n",
        "  \titem[currentLength] = newItem;\n",
        "\t  currentLength++;\n",
        "   }\n",
        "}\n"
      ],
      "execution_count": 35,
      "outputs": [
        {
          "output_type": "stream",
          "name": "stdout",
          "text": [
            "Overwriting GenericArray.cpp\n"
          ]
        }
      ]
    },
    {
      "cell_type": "code",
      "metadata": {
        "id": "hfsZBqkBeXwp",
        "colab": {
          "base_uri": "https://localhost:8080/"
        },
        "outputId": "e1930f83-81fa-4d4f-8738-1eca7696f7b8"
      },
      "source": [
        "%%writefile main.cpp\n",
        "\n",
        "#include <iostream>\n",
        "#include \"GenericArray.cpp\"  // Include implmentation with template classes\n",
        "using namespace std;\n",
        "\n",
        "int main()\n",
        "{\n",
        "   GenericArray<int> first(2);\n",
        "   first.add(10);\n",
        "   first.add(20);\n",
        "   cout << \"First list\\n\" << first << endl;\n",
        "\n",
        "   GenericArray<char> second(3);\n",
        "   second.add('A');\n",
        "   second.add('B');\n",
        "   second.add('C');\n",
        "   cout << \"Second list\\n\" << second << endl;\n",
        "\n",
        "   return 0;\n",
        "}"
      ],
      "execution_count": 36,
      "outputs": [
        {
          "output_type": "stream",
          "name": "stdout",
          "text": [
            "Overwriting main.cpp\n"
          ]
        }
      ]
    },
    {
      "cell_type": "code",
      "metadata": {
        "id": "O_Bkmy5OeeKC",
        "colab": {
          "base_uri": "https://localhost:8080/"
        },
        "outputId": "a16982d5-4893-46e7-b0aa-554e5c6ddebd"
      },
      "source": [
        "%%script bash\n",
        "\n",
        "g++ main.cpp -std=c++11\n",
        "./a.out"
      ],
      "execution_count": 37,
      "outputs": [
        {
          "output_type": "stream",
          "name": "stdout",
          "text": [
            "First list\n",
            "10\n",
            "20\n",
            "\n",
            "Second list\n",
            "A\n",
            "B\n",
            "C\n",
            "\n"
          ]
        }
      ]
    },
    {
      "cell_type": "code",
      "source": [],
      "metadata": {
        "id": "_lIFNGKsKioO"
      },
      "execution_count": null,
      "outputs": []
    },
    {
      "cell_type": "code",
      "source": [],
      "metadata": {
        "id": "E68Z_cUOLg2O"
      },
      "execution_count": null,
      "outputs": []
    },
    {
      "cell_type": "code",
      "source": [],
      "metadata": {
        "id": "DIEDHujSLhLE"
      },
      "execution_count": null,
      "outputs": []
    },
    {
      "cell_type": "code",
      "source": [],
      "metadata": {
        "id": "oMd2tCjiLhu8"
      },
      "execution_count": null,
      "outputs": []
    },
    {
      "cell_type": "code",
      "metadata": {
        "id": "2hQq1ip1E47g",
        "colab": {
          "base_uri": "https://localhost:8080/"
        },
        "outputId": "e1b9b7e0-fe4e-44a4-c7d9-5aef9851c588"
      },
      "source": [
        "%%writefile node.h\n",
        "\n",
        "#pragma once\n",
        "#include <iostream>\n",
        "using namespace std;\n",
        "\n",
        "template<class T>\n",
        "class Node\n",
        "{\n",
        " public:\n",
        "  Node();\n",
        "  Node(T item);\n",
        "  ~Node();\n",
        "  T& getItem();\n",
        "  void setLeft(Node *next);\n",
        "  void setRight(Node *next);\n",
        "  void setParent(Node *next);\n",
        "  Node<T>* getLeft();\n",
        "  Node<T>* getRight();\n",
        "  Node<T>* getParent();\n",
        " private:\n",
        "  T item;\n",
        "  Node<T>* left;\n",
        "  Node<T>* right;\n",
        "  Node<T>* parent;\n",
        "};"
      ],
      "execution_count": 38,
      "outputs": [
        {
          "output_type": "stream",
          "name": "stdout",
          "text": [
            "Writing node.h\n"
          ]
        }
      ]
    },
    {
      "cell_type": "code",
      "metadata": {
        "id": "UWEMtLF8Gm0m",
        "colab": {
          "base_uri": "https://localhost:8080/"
        },
        "outputId": "c6a95b60-0980-4bb5-a1ca-a482272cb22c"
      },
      "source": [
        "%%writefile node.cpp\n",
        "\n",
        "#include <iostream>\n",
        "#include \"node.h\"\n",
        "\n",
        "template<class T>\n",
        "Node<T>::Node()\n",
        "{\n",
        " left = nullptr;\n",
        " right = nullptr;\n",
        " parent = nullptr;\n",
        "}\n",
        "\n",
        "template<class T>\n",
        "Node<T>::Node(T item) : item(item)\n",
        "{\n",
        " left = nullptr;\n",
        " right = nullptr;\n",
        " parent = nullptr;\n",
        "}\n",
        "\n",
        "template<class T>\n",
        "Node<T>::~Node()\n",
        "{\n",
        "}\n",
        "\n",
        "template<class T>\n",
        "Node<T>* Node<T>::getLeft()\n",
        "{\n",
        "  return left;\n",
        "}\n",
        "\n",
        "template<class T>\n",
        "Node<T>* Node<T>::getRight()\n",
        "{\n",
        "  return right;\n",
        "}\n",
        "\n",
        "template<class T>\n",
        "Node<T>* Node<T>::getParent()\n",
        "{\n",
        "  return parent;\n",
        "}\n",
        "\n",
        "template<class T>\n",
        "void Node<T>::setLeft(Node *n)\n",
        "{\n",
        "  left = n;\n",
        "}\n",
        "\n",
        "template<class T>\n",
        "void Node<T>::setRight(Node *n)\n",
        "{\n",
        "  right = n;\n",
        "}\n",
        "\n",
        "template<class T>\n",
        "void Node<T>::setParent(Node *n)\n",
        "{\n",
        "  parent = n;\n",
        "}\n",
        "\n",
        "template<class T>\n",
        "T& Node<T>::getItem()\n",
        "{\n",
        "  return item;\n",
        "}"
      ],
      "execution_count": 39,
      "outputs": [
        {
          "output_type": "stream",
          "name": "stdout",
          "text": [
            "Writing node.cpp\n"
          ]
        }
      ]
    },
    {
      "cell_type": "code",
      "metadata": {
        "id": "SLWf5xA4T4_9",
        "colab": {
          "base_uri": "https://localhost:8080/"
        },
        "outputId": "4d0f70d9-ff3d-43b2-9790-8461dd4fb69c"
      },
      "source": [
        "%%writefile mainTest.cpp\n",
        "\n",
        "#include \"node.cpp\"\n",
        "#include <iostream>\n",
        "\n",
        "using namespace std;\n",
        "\n",
        "void inOrder(Node<int> *n)\n",
        "{\n",
        "  if (n != nullptr)\n",
        "  {\n",
        "\tinOrder(n->getLeft());\n",
        "\tcout << n->getItem() << endl;\n",
        "\tinOrder(n->getRight());\n",
        "  }\n",
        "}\n",
        "\n",
        "int main()\n",
        "{\n",
        "  Node<int> root(5);\n",
        "  Node<int> n1(3);\n",
        "  Node<int> n2(2);\n",
        "  Node<int> n3(5);\n",
        "  Node<int> n4(7);\n",
        "  Node<int> n5(8);\n",
        "  root.setLeft(&n1); root.setRight(&n4);\n",
        "  n1.setLeft(&n2); n1.setRight(&n3);\n",
        "  n4.setRight(&n5);\n",
        "\n",
        "  inOrder(&root);\n",
        "\n",
        "  return 0;\n",
        "}"
      ],
      "execution_count": 40,
      "outputs": [
        {
          "output_type": "stream",
          "name": "stdout",
          "text": [
            "Writing mainTest.cpp\n"
          ]
        }
      ]
    },
    {
      "cell_type": "code",
      "metadata": {
        "id": "QASkK32AT9mc",
        "colab": {
          "base_uri": "https://localhost:8080/"
        },
        "outputId": "309a23c8-df72-4e0e-99e1-243c7f148841"
      },
      "source": [
        "%%script bash\n",
        "\n",
        "g++ mainTest.cpp -std=c++11\n",
        "./a.out"
      ],
      "execution_count": 41,
      "outputs": [
        {
          "output_type": "stream",
          "name": "stdout",
          "text": [
            "2\n",
            "3\n",
            "5\n",
            "5\n",
            "7\n",
            "8\n"
          ]
        }
      ]
    },
    {
      "cell_type": "code",
      "source": [],
      "metadata": {
        "id": "4a98-uGBLs62"
      },
      "execution_count": null,
      "outputs": []
    }
  ]
}